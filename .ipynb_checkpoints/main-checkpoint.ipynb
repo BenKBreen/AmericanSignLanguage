{
 "cells": [
  {
   "cell_type": "code",
   "execution_count": 20,
   "id": "0576cb8d-096e-4877-a266-6c457ebf2db9",
   "metadata": {},
   "outputs": [
    {
     "name": "stdout",
     "output_type": "stream",
     "text": [
      "Pretty printing has been turned ON\n"
     ]
    }
   ],
   "source": [
    "### imports\n",
    "import json\n",
    "import import_ipynb\n",
    "import ipywidgets as widgets\n",
    "import tensorflow as tf\n",
    "from ipywidgets import interact, interactive, fixed, interact_manual\n",
    "import ASL\n",
    "\n",
    "# %load_ext autoreload\n",
    "# %autoreload 2\n",
    "\n",
    "### pretty print = off\n",
    "%pprint"
   ]
  },
  {
   "cell_type": "markdown",
   "id": "3a7eea02-d086-4c74-a449-8c6521d03aa6",
   "metadata": {},
   "source": [
    "## Metadata"
   ]
  },
  {
   "cell_type": "code",
   "execution_count": 21,
   "id": "45a9ec94-f307-4e23-919d-8f271befc069",
   "metadata": {},
   "outputs": [],
   "source": [
    "Meta = ASL.metadata('train')\n",
    "MetaS = ASL.metadata('supplemental')"
   ]
  },
  {
   "cell_type": "markdown",
   "id": "4a1a16cb-6469-4550-bbf2-e1f4d5182478",
   "metadata": {},
   "source": [
    "## Selecting datafiles"
   ]
  },
  {
   "cell_type": "code",
   "execution_count": 3,
   "id": "cfbb29c9-6dca-4d7c-a554-c9fb12353b39",
   "metadata": {},
   "outputs": [],
   "source": [
    "file = ASL.str(MetaS.files[1])\n",
    "Datafile = ASL.datafile(MetaS, file)"
   ]
  },
  {
   "cell_type": "markdown",
   "id": "d56aed9c-6200-453e-9b78-5715e2f985c8",
   "metadata": {},
   "source": [
    "## Selecting videos"
   ]
  },
  {
   "cell_type": "code",
   "execution_count": null,
   "id": "72d4edec-cb39-4801-b1b6-0a2ed24411ee",
   "metadata": {},
   "outputs": [],
   "source": [
    "vid = Datafile.videos[0]\n",
    "W = video(Datafile, vid)"
   ]
  },
  {
   "cell_type": "code",
   "execution_count": null,
   "id": "64c99349-dffb-40e3-be98-e278bd3903bd",
   "metadata": {},
   "outputs": [],
   "source": [
    "f = show_hands(W)\n",
    "interact(f, frame=widgets.IntSlider(min=0, max=len(W.handframes)-1, step=1, value=0, layout=widgets.Layout(width='1000px')))"
   ]
  },
  {
   "cell_type": "markdown",
   "id": "b7b7d0ba-d2a6-4861-875d-76ddc370d870",
   "metadata": {},
   "source": [
    "# External videos"
   ]
  },
  {
   "cell_type": "code",
   "execution_count": null,
   "id": "69da09d8-35d8-43d7-8bcb-406c6ad582c7",
   "metadata": {},
   "outputs": [],
   "source": [
    "path = 'Samples/IMG_0970.MOV'\n",
    "V = video_file(path)\n",
    "print(V)"
   ]
  },
  {
   "cell_type": "code",
   "execution_count": null,
   "id": "79274a17-b805-44da-a527-b0c0719a11ed",
   "metadata": {},
   "outputs": [],
   "source": [
    "f = show_annotated_video(V)\n",
    "interact(f, i=widgets.IntSlider(min=0, max=len(V.frames)-1, step=1, value=0, layout=widgets.Layout(width='1000px')))"
   ]
  }
 ],
 "metadata": {
  "kernelspec": {
   "display_name": "Python 3 (ipykernel)",
   "language": "python",
   "name": "python3"
  },
  "language_info": {
   "codemirror_mode": {
    "name": "ipython",
    "version": 3
   },
   "file_extension": ".py",
   "mimetype": "text/x-python",
   "name": "python",
   "nbconvert_exporter": "python",
   "pygments_lexer": "ipython3",
   "version": "3.10.9"
  }
 },
 "nbformat": 4,
 "nbformat_minor": 5
}

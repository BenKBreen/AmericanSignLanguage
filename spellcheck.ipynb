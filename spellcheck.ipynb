{
 "cells": [
  {
   "cell_type": "code",
   "execution_count": null,
   "id": "c1e4b9df-1bf1-4dfa-b6b5-eddc23a1ecb3",
   "metadata": {},
   "outputs": [],
   "source": [
    "# imports \n",
    "from spellchecker import SpellChecker\n",
    "from Levenshtein import distance\n",
    "from collections import Counter\n",
    "\n",
    "\n",
    "# reconstruct sentence\n",
    "def reconstruct_sentence(s):\n",
    "    \n",
    "    # initialize\n",
    "    n = len(s)\n",
    "    \n",
    "    # dp array\n",
    "    dp = defaultdict( lambda : (0,[]) )\n",
    "    for i in range(n+1): dp[i] = (i, [])\n",
    "    \n",
    "    # loop\n",
    "    for i in range(n):\n",
    "        for j in range(i,n+1):\n",
    "            \n",
    "            # word\n",
    "            word = s[i:j]\n",
    "            \n",
    "            # correct word\n",
    "            cword = spell.correction(word)\n",
    "            \n",
    "            # distance\n",
    "            d = len(word) if cword == None else distance(word, cword)\n",
    "            \n",
    "            # update dp array\n",
    "            if dp[i][0] + d < dp[j][0]:\n",
    "                dp[j] = ( dp[i][0] + d, dp[i][1] + [ cword ] )\n",
    "             \n",
    "    # score + words     \n",
    "    score, words = dp[n]\n",
    "    \n",
    "    # sentence\n",
    "    sen = ' '.join( words )\n",
    "    \n",
    "    # return sentence\n",
    "    return sen"
   ]
  }
 ],
 "metadata": {
  "kernelspec": {
   "display_name": "Python 3 (ipykernel)",
   "language": "python",
   "name": "python3"
  },
  "language_info": {
   "codemirror_mode": {
    "name": "ipython",
    "version": 3
   },
   "file_extension": ".py",
   "mimetype": "text/x-python",
   "name": "python",
   "nbconvert_exporter": "python",
   "pygments_lexer": "ipython3",
   "version": "3.10.9"
  }
 },
 "nbformat": 4,
 "nbformat_minor": 5
}

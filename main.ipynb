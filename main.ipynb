{
 "cells": [
  {
   "cell_type": "code",
   "execution_count": 1,
   "id": "0576cb8d-096e-4877-a266-6c457ebf2db9",
   "metadata": {},
   "outputs": [
    {
     "name": "stdout",
     "output_type": "stream",
     "text": [
      "importing Jupyter notebook from objects.ipynb\n",
      "importing Jupyter notebook from video.ipynb\n",
      "importing Jupyter notebook from landmarks.ipynb\n",
      "importing Jupyter notebook from plotting.ipynb\n"
     ]
    }
   ],
   "source": [
    "### imports\n",
    "import json\n",
    "import import_ipynb\n",
    "import ipywidgets as widgets\n",
    "import tensorflow as tf\n",
    "from sklearn.model_selection import train_test_split\n",
    "from ipywidgets import interact, interactive, fixed, interact_manual\n",
    "from objects import *\n",
    "from video import *"
   ]
  },
  {
   "cell_type": "markdown",
   "id": "3a7eea02-d086-4c74-a449-8c6521d03aa6",
   "metadata": {},
   "source": [
    "## Metadata"
   ]
  },
  {
   "cell_type": "code",
   "execution_count": 2,
   "id": "45a9ec94-f307-4e23-919d-8f271befc069",
   "metadata": {},
   "outputs": [],
   "source": [
    "Meta = metadata('train')\n",
    "MetaS = metadata('supplemental')"
   ]
  },
  {
   "cell_type": "code",
   "execution_count": 3,
   "id": "2c8217af-65b1-4f44-a284-0b4e9e18ea0c",
   "metadata": {},
   "outputs": [
    {
     "name": "stdout",
     "output_type": "stream",
     "text": [
      "Pretty printing has been turned OFF\n"
     ]
    }
   ],
   "source": [
    "%pprint"
   ]
  },
  {
   "cell_type": "markdown",
   "id": "4a1a16cb-6469-4550-bbf2-e1f4d5182478",
   "metadata": {},
   "source": [
    "## Selecting datafiles"
   ]
  },
  {
   "cell_type": "code",
   "execution_count": 4,
   "id": "cfbb29c9-6dca-4d7c-a554-c9fb12353b39",
   "metadata": {},
   "outputs": [],
   "source": [
    "file = str(Meta.files[1])\n",
    "Datafile = datafile(Meta, file)"
   ]
  },
  {
   "cell_type": "markdown",
   "id": "d56aed9c-6200-453e-9b78-5715e2f985c8",
   "metadata": {},
   "source": [
    "## Selecting videos"
   ]
  },
  {
   "cell_type": "code",
   "execution_count": 5,
   "id": "72d4edec-cb39-4801-b1b6-0a2ed24411ee",
   "metadata": {},
   "outputs": [],
   "source": [
    "vid = Datafile.videos[1]\n",
    "V = video(Datafile, vid)"
   ]
  },
  {
   "cell_type": "code",
   "execution_count": 6,
   "id": "5b84d003-f71b-4aa1-a57c-570da4749553",
   "metadata": {},
   "outputs": [
    {
     "name": "stdout",
     "output_type": "stream",
     "text": [
      " Sequence: 1784574169\n",
      " Phrase: +44-645-14-4280-31\n",
      " Signer: 89\n",
      " Frames: 249\n",
      " Dominant Hand: right\n",
      " Percentage: 98.39\n"
     ]
    }
   ],
   "source": [
    "print(V)"
   ]
  },
  {
   "cell_type": "code",
   "execution_count": 7,
   "id": "f018dccd-a5a9-4909-b37e-99ae0aab722f",
   "metadata": {},
   "outputs": [],
   "source": [
    "# Good = []\n",
    "# for i,vid in enumerate(Datafile.videos):\n",
    "    # V = video(Datafile, vid)\n",
    "    # p = percentage(V)\n",
    "    # if p == 100.00: \n",
    "        # Good += [vid]\n",
    "    # print(i,p,len(Good))"
   ]
  },
  {
   "cell_type": "code",
   "execution_count": 8,
   "id": "67904d34-f798-4495-a2fd-0ece7c389a53",
   "metadata": {},
   "outputs": [],
   "source": [
    "Good = [1784587545, 1786414699, 1786455245, 1786973032, 1787094692, 1791358393, 1792308520, \n",
    "        1792909008, 1794263510, 1795294511, 1797338021, 1797425392, 1799533211, 1801891222, \n",
    "        1802098574, 1803766841, 1805308488, 1805565959, 1806516226, 1807475031, 1807505088, \n",
    "        1808538895, 1810669537, 1811016240, 1813227209, 1814409379, 1814575380, 1815284952, 1815485319]"
   ]
  },
  {
   "cell_type": "code",
   "execution_count": 9,
   "id": "41834140-fe1b-4297-8bc6-cf10174eaaa0",
   "metadata": {},
   "outputs": [],
   "source": [
    "V = video(Datafile, Good[1])"
   ]
  },
  {
   "cell_type": "code",
   "execution_count": 10,
   "id": "64c99349-dffb-40e3-be98-e278bd3903bd",
   "metadata": {},
   "outputs": [
    {
     "data": {
      "application/vnd.jupyter.widget-view+json": {
       "model_id": "383e648cca4b48239ed46f5de9319ce7",
       "version_major": 2,
       "version_minor": 0
      },
      "text/plain": [
       "interactive(children=(IntSlider(value=0, description='frame', layout=Layout(width='1000px'), max=92), Output()…"
      ]
     },
     "metadata": {},
     "output_type": "display_data"
    },
    {
     "data": {
      "text/plain": [
       "<function show_hands.<locals>.show_frame at 0x2a3eeaf80>"
      ]
     },
     "execution_count": 10,
     "metadata": {},
     "output_type": "execute_result"
    }
   ],
   "source": [
    "f = show_hands(V)\n",
    "interact(f, frame=widgets.IntSlider(min=0, max=len(V.frames)-1, step=1, value=0, layout=widgets.Layout(width='1000px')))"
   ]
  },
  {
   "cell_type": "code",
   "execution_count": 11,
   "id": "746040f6-c2a7-46e0-8ec8-3093e74e3dfb",
   "metadata": {},
   "outputs": [
    {
     "name": "stdout",
     "output_type": "stream",
     "text": [
      " Sequence: 1786414699\n",
      " Phrase: 922 co 20/33\n",
      " Signer: 135\n",
      " Frames: 93\n",
      " Dominant Hand: right\n",
      " Percentage: 100.0\n"
     ]
    }
   ],
   "source": [
    "print(V)"
   ]
  },
  {
   "cell_type": "code",
   "execution_count": 12,
   "id": "224e2cad-8f84-4509-a5b9-1df51ffae576",
   "metadata": {},
   "outputs": [],
   "source": [
    "A = get_landmarks(V, 'right_hand', 0)\n",
    "A = shift(A, np.array([0.,0.,0.]))"
   ]
  },
  {
   "cell_type": "code",
   "execution_count": 17,
   "id": "1b557873-5e6f-4d5a-8f36-d7328818daff",
   "metadata": {},
   "outputs": [
    {
     "data": {
      "text/plain": [
       "<tf.Tensor: shape=(20, 3), dtype=float64, numpy=\n",
       "array([[ 0.04232334, -0.05140309, -0.00675568],\n",
       "       [ 0.06987115, -0.10248778, -0.01491452],\n",
       "       [ 0.09462891, -0.14582631, -0.02732628],\n",
       "       [ 0.11760409, -0.19613001, -0.03962396],\n",
       "       [ 0.04541665, -0.14881295, -0.0078475 ],\n",
       "       [ 0.05289695, -0.21441564, -0.01337965],\n",
       "       [ 0.05790362, -0.2578223 , -0.02114287],\n",
       "       [ 0.06898841, -0.29438388, -0.0262141 ],\n",
       "       [ 0.00673874, -0.14632186, -0.01946258],\n",
       "       [-0.00126522, -0.21573205, -0.02682741],\n",
       "       [-0.00751232, -0.26703024, -0.03542777],\n",
       "       [-0.00825011, -0.31157932, -0.03851737],\n",
       "       [-0.03394313, -0.13555835, -0.03898969],\n",
       "       [-0.05455344, -0.19554633, -0.05219285],\n",
       "       [-0.06751906, -0.23921616, -0.06134848],\n",
       "       [-0.07700428, -0.27252513, -0.06554198],\n",
       "       [-0.07221762, -0.121435  , -0.06297669],\n",
       "       [-0.10752161, -0.164856  , -0.08233459],\n",
       "       [-0.1283358 , -0.19055426, -0.09358383],\n",
       "       [-0.14583156, -0.21103041, -0.10004811]])>"
      ]
     },
     "execution_count": 17,
     "metadata": {},
     "output_type": "execute_result"
    }
   ],
   "source": [
    "N,_ = normal_hand_data(V)\n",
    "tf.reshape(N[0],(20,3))"
   ]
  },
  {
   "cell_type": "code",
   "execution_count": 14,
   "id": "9b9c74b4-635b-4c57-a972-7d6d6e846f61",
   "metadata": {},
   "outputs": [
    {
     "ename": "NameError",
     "evalue": "name 'butt' is not defined",
     "output_type": "error",
     "traceback": [
      "\u001b[0;31m---------------------------------------------------------------------------\u001b[0m",
      "\u001b[0;31mNameError\u001b[0m                                 Traceback (most recent call last)",
      "Cell \u001b[0;32mIn[14], line 1\u001b[0m\n\u001b[0;32m----> 1\u001b[0m \u001b[43mbutt\u001b[49m\n",
      "\u001b[0;31mNameError\u001b[0m: name 'butt' is not defined"
     ]
    }
   ],
   "source": [
    "butt"
   ]
  },
  {
   "cell_type": "code",
   "execution_count": null,
   "id": "cee59c0a-ff0d-4165-b33c-6b7a19e1a5ab",
   "metadata": {},
   "outputs": [],
   "source": [
    "# change label\n",
    "def changelabel(self, i, letter):\n",
    "    self.data_labels[i] = letter\n",
    "    \n",
    "#for i in range(88,92):\n",
    "    #changelabel(V,i,'r')"
   ]
  },
  {
   "cell_type": "code",
   "execution_count": null,
   "id": "3ec78a9f-b71c-418b-a2d4-7ebd919c4e76",
   "metadata": {},
   "outputs": [],
   "source": [
    "# pickle function\n",
    "def pickle(D,V):\n",
    "    seq_id = str(V.id)\n",
    "    Frames = V.frames\n",
    "    D[seq_id] = [ label(V,i) for i in Frames ]"
   ]
  },
  {
   "cell_type": "code",
   "execution_count": null,
   "id": "8aa50be4-4fb1-4674-b72e-602e253538da",
   "metadata": {},
   "outputs": [],
   "source": [
    "# pickle(train[str(Datafile.id)],V)"
   ]
  },
  {
   "cell_type": "code",
   "execution_count": null,
   "id": "8a0864e0-7a1c-4426-8bef-86fee8d1e37c",
   "metadata": {},
   "outputs": [],
   "source": [
    "#N, p = normal_hand_data(V)\n",
    "# pN = V.data_labels\n",
    "\n",
    "# loop\n",
    "# for i in range(len(N)):\n",
    "    # if pN[i] != '?':\n",
    "        # X += [ N[i] ]\n",
    "        # y += [ Encode( pN[i] ) ]"
   ]
  },
  {
   "cell_type": "code",
   "execution_count": null,
   "id": "6b4c4c21-3b6e-4261-8064-277032e4f8bb",
   "metadata": {},
   "outputs": [],
   "source": [
    "# load Data\n",
    "# with open('LabeledData/LabeledData' + str(Datafile.id) + '.json', 'r') as f:\n",
    "with open('Labels/Labels105143404.json', 'r') as f:\n",
    "    train = json.load(f)\n",
    "\n",
    "X, y = [], []\n",
    "# loop over file ids\n",
    "for file in train:\n",
    "    # create datafile\n",
    "    Df = datafile(Meta, file)\n",
    "    videos = train[file]\n",
    "    for vid in videos:\n",
    "        \n",
    "        # load date\n",
    "        V = video(Df, int(vid))\n",
    "        N, p = normal_hand_data(V)\n",
    "        pN = videos[vid]\n",
    "        \n",
    "        # loop\n",
    "        for i in range(len(N)):\n",
    "            if pN[i] != '?':\n",
    "                X += [ N[i] ]\n",
    "                y += [ Encode( pN[i] ) ]"
   ]
  },
  {
   "cell_type": "code",
   "execution_count": null,
   "id": "132bb2b5-80e1-46e9-9a47-6f02d36f9fbf",
   "metadata": {},
   "outputs": [],
   "source": [
    "X[0][0]"
   ]
  },
  {
   "cell_type": "code",
   "execution_count": null,
   "id": "b57084ae-5c52-4e2e-8fac-86b48fb192c2",
   "metadata": {},
   "outputs": [],
   "source": [
    "X_train, X_test, y_train, y_test = train_test_split(X, y, test_size=0.3) "
   ]
  },
  {
   "cell_type": "code",
   "execution_count": null,
   "id": "370bc04b-f816-4d76-b074-74c3e8ea421e",
   "metadata": {},
   "outputs": [],
   "source": [
    "# Model\n",
    "k = 59\n",
    "M = tf.keras.Sequential([\n",
    "    tf.keras.layers.Flatten(input_shape=(20, 3)),\n",
    "    tf.keras.layers.Dense(6*k, activation='relu'),\n",
    "    tf.keras.layers.Dense(k)])\n",
    "\n",
    "# Compile Model\n",
    "M.compile(optimizer='Adam', loss=tf.keras.losses.SparseCategoricalCrossentropy(from_logits=True), metrics=['accuracy'])"
   ]
  },
  {
   "cell_type": "code",
   "execution_count": null,
   "id": "f65f4816-f96a-4643-be63-0fb895bf03e3",
   "metadata": {},
   "outputs": [],
   "source": [
    "# fit model\n",
    "M.fit( X, y, epochs = 400, verbose=0 )\n",
    "# M.fit( X_train, y_train, epochs = 450, verbose=0 )"
   ]
  },
  {
   "cell_type": "code",
   "execution_count": null,
   "id": "96ee1667-c2af-4f70-83cd-b6769c7a1e49",
   "metadata": {},
   "outputs": [],
   "source": [
    "Loss, Acctrain = M.evaluate(X, y, verbose=2)\n",
    "print('accuracy:', Acctrain)"
   ]
  },
  {
   "cell_type": "code",
   "execution_count": null,
   "id": "ed73f942-0b7d-4ada-9940-d2e5ac910065",
   "metadata": {},
   "outputs": [],
   "source": [
    "Loss, Acctrain = M.evaluate(X_train, y_train, verbose=2)\n",
    "Loss, Acctest = M.evaluate(X_test, y_test, verbose=2)\n",
    "print('\\nTrain accuracy:', Acctrain)\n",
    "print('\\nTest accuracy:', Acctest)"
   ]
  },
  {
   "cell_type": "code",
   "execution_count": null,
   "id": "d4c429df-a682-477f-a3b3-10be85822346",
   "metadata": {},
   "outputs": [],
   "source": [
    "# pickling weights \n",
    "M.save_weights(\"model.weights\")"
   ]
  },
  {
   "cell_type": "code",
   "execution_count": null,
   "id": "970a0197-b11d-46d0-9eb0-acfa9be43284",
   "metadata": {},
   "outputs": [],
   "source": [
    "print(tf.__version__)"
   ]
  },
  {
   "cell_type": "code",
   "execution_count": null,
   "id": "4d0a7538-1531-4270-a0ba-107f5f461f86",
   "metadata": {},
   "outputs": [],
   "source": [
    "M.load_weights('model.weights')"
   ]
  },
  {
   "cell_type": "code",
   "execution_count": null,
   "id": "75056649-d251-4201-96fc-7fb7e583acd8",
   "metadata": {},
   "outputs": [],
   "source": [
    "Label(V,M)"
   ]
  },
  {
   "cell_type": "code",
   "execution_count": null,
   "id": "3106d82e-001d-458f-85dc-19bbdb96fb14",
   "metadata": {},
   "outputs": [],
   "source": [
    "with open('Labels/Labels105143404.json', 'r') as f:\n",
    "    pickles = json.load(f)"
   ]
  },
  {
   "cell_type": "code",
   "execution_count": null,
   "id": "f5a1d7c8-bf05-408a-b2d5-4d3cc816fd4d",
   "metadata": {},
   "outputs": [],
   "source": [
    "# pickle function\n",
    "def pickle(Dict, V):\n",
    "    seq_id = str(V.id)\n",
    "    Frames = V.frames\n",
    "    Dict[seq_id] = [ label(V,i) for i in Frames ]"
   ]
  },
  {
   "cell_type": "code",
   "execution_count": null,
   "id": "5acffc1a-9994-4f8d-8643-143c2fd81bb6",
   "metadata": {},
   "outputs": [],
   "source": [
    "# pickling good movies\n",
    "# pepper = {}\n",
    "# for vid in Good:\n",
    "    # V = video(Datafile, vid)\n",
    "    # Label(V,M)\n",
    "    # pickle( pepper, V )\n",
    "# D = { str(Datafile.id) : pepper }"
   ]
  },
  {
   "cell_type": "code",
   "execution_count": null,
   "id": "d15c9f51-192a-4ece-85c7-ff43b4245aa6",
   "metadata": {},
   "outputs": [],
   "source": [
    "with open('Labels' + str(Datafile.id) + '.json', 'w') as f:\n",
    "    json.dump(train, f, indent=2)"
   ]
  },
  {
   "cell_type": "code",
   "execution_count": null,
   "id": "7311f262-1ce0-4a62-af6b-227c3d628e4b",
   "metadata": {},
   "outputs": [],
   "source": [
    "file = [i for i in train][0]\n",
    "A = train[file]"
   ]
  },
  {
   "cell_type": "code",
   "execution_count": null,
   "id": "80580804-7321-4ebe-8ab7-61641ae16648",
   "metadata": {},
   "outputs": [],
   "source": [
    "keys = [i for i in A]"
   ]
  },
  {
   "cell_type": "code",
   "execution_count": null,
   "id": "e51303ac-71e0-4952-a874-a00244e170c3",
   "metadata": {},
   "outputs": [],
   "source": [
    "seq = keys[0]\n",
    "V = video(Df, int(seq))\n",
    "V.data_labels = A[seq]"
   ]
  }
 ],
 "metadata": {
  "kernelspec": {
   "display_name": "Python 3 (ipykernel)",
   "language": "python",
   "name": "python3"
  },
  "language_info": {
   "codemirror_mode": {
    "name": "ipython",
    "version": 3
   },
   "file_extension": ".py",
   "mimetype": "text/x-python",
   "name": "python",
   "nbconvert_exporter": "python",
   "pygments_lexer": "ipython3",
   "version": "3.10.9"
  }
 },
 "nbformat": 4,
 "nbformat_minor": 5
}

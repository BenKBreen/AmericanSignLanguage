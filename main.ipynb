{
 "cells": [
  {
   "cell_type": "code",
   "execution_count": 1,
   "id": "0576cb8d-096e-4877-a266-6c457ebf2db9",
   "metadata": {},
   "outputs": [
    {
     "name": "stdout",
     "output_type": "stream",
     "text": [
      "importing Jupyter notebook from objects.ipynb\n",
      "importing Jupyter notebook from video.ipynb\n",
      "importing Jupyter notebook from landmarks.ipynb\n",
      "importing Jupyter notebook from plotting.ipynb\n"
     ]
    }
   ],
   "source": [
    "### imports\n",
    "import json\n",
    "import import_ipynb\n",
    "import ipywidgets as widgets\n",
    "import tensorflow as tf\n",
    "from sklearn.model_selection import train_test_split\n",
    "from ipywidgets import interact, interactive, fixed, interact_manual\n",
    "from objects import *\n",
    "from video import *"
   ]
  },
  {
   "cell_type": "markdown",
   "id": "3a7eea02-d086-4c74-a449-8c6521d03aa6",
   "metadata": {},
   "source": [
    "## Metadata"
   ]
  },
  {
   "cell_type": "code",
   "execution_count": 2,
   "id": "45a9ec94-f307-4e23-919d-8f271befc069",
   "metadata": {},
   "outputs": [],
   "source": [
    "Meta = metadata('supplemental')\n",
    "Encode, Decode = Meta.encode, Meta.decode"
   ]
  },
  {
   "cell_type": "code",
   "execution_count": 3,
   "id": "2c8217af-65b1-4f44-a284-0b4e9e18ea0c",
   "metadata": {},
   "outputs": [
    {
     "name": "stdout",
     "output_type": "stream",
     "text": [
      "Pretty printing has been turned OFF\n"
     ]
    }
   ],
   "source": [
    "%pprint"
   ]
  },
  {
   "cell_type": "code",
   "execution_count": 4,
   "id": "66db861e-1a1c-46c5-acb1-17cc1bf33ed4",
   "metadata": {},
   "outputs": [
    {
     "data": {
      "text/plain": [
       "{0: 'a', 1: 'b', 2: 'c', 3: 'cc', 4: 'd', 5: 'dd', 6: 'e', 7: 'ee', 8: 'f', 9: 'ff', 10: 'g', 11: 'gg', 12: 'h', 13: 'i', 14: 'j', 15: 'k', 16: 'l', 17: 'll', 18: 'm', 19: 'mm', 20: 'n', 21: 'nn', 22: 'o', 23: 'oo', 24: 'p', 25: 'pp', 26: 'q', 27: 'r', 28: 'rr', 29: 's', 30: 'ss', 31: 't', 32: 'tt', 33: 'u', 34: 'v', 35: 'w', 36: 'x', 37: 'y', 38: 'z', 39: 'zz'}"
      ]
     },
     "execution_count": 4,
     "metadata": {},
     "output_type": "execute_result"
    }
   ],
   "source": [
    "Decode"
   ]
  },
  {
   "cell_type": "markdown",
   "id": "4a1a16cb-6469-4550-bbf2-e1f4d5182478",
   "metadata": {},
   "source": [
    "## Selecting datafiles"
   ]
  },
  {
   "cell_type": "code",
   "execution_count": 38,
   "id": "cfbb29c9-6dca-4d7c-a554-c9fb12353b39",
   "metadata": {},
   "outputs": [],
   "source": [
    "file = str(Meta.files[0])\n",
    "Datafile = datafile(Meta, file)"
   ]
  },
  {
   "cell_type": "markdown",
   "id": "d56aed9c-6200-453e-9b78-5715e2f985c8",
   "metadata": {},
   "source": [
    "## Selecting videos"
   ]
  },
  {
   "cell_type": "code",
   "execution_count": 6,
   "id": "72d4edec-cb39-4801-b1b6-0a2ed24411ee",
   "metadata": {},
   "outputs": [],
   "source": [
    "vid = Datafile.videos[1]\n",
    "V = video(Datafile, vid)"
   ]
  },
  {
   "cell_type": "code",
   "execution_count": 7,
   "id": "5b84d003-f71b-4aa1-a57c-570da4749553",
   "metadata": {},
   "outputs": [
    {
     "name": "stdout",
     "output_type": "stream",
     "text": [
      " Sequence: 731357147\n",
      " Phrase: mom made her a turtleneck\n",
      " Signer: 111\n",
      " Frames: 124\n",
      " Dominant Hand: right\n",
      " Percentage: 39.52\n"
     ]
    }
   ],
   "source": [
    "print(V)"
   ]
  },
  {
   "cell_type": "code",
   "execution_count": 8,
   "id": "f018dccd-a5a9-4909-b37e-99ae0aab722f",
   "metadata": {},
   "outputs": [],
   "source": [
    "#Good = []\n",
    "#for i,vid in enumerate(Datafile.videos):\n",
    "    #V = video(Datafile, vid)\n",
    "    #p = percentage(V)\n",
    "    #if p == 100.00: \n",
    "        #Good += [vid]\n",
    "    #print(i,p,len(Good))"
   ]
  },
  {
   "cell_type": "code",
   "execution_count": 9,
   "id": "67904d34-f798-4495-a2fd-0ece7c389a53",
   "metadata": {},
   "outputs": [],
   "source": [
    "Good = np.array([731388395, 733037660, 733083339, 733880365, 735770695, 737406450,\n",
    "       740539260, 742144914, 742612327, 742769082, 742979308, 743509352,\n",
    "       744720263, 745277714, 745817010, 746072464, 748370228, 748683418,\n",
    "       748895323, 750445797, 751067574, 751959745, 752039037, 752973672,\n",
    "       755835802, 756981660, 757335344, 757918060, 758005970, 758610320,\n",
    "       758757555, 759275436, 759824943, 762418872, 762613712, 762732088,\n",
    "       763196596, 764432761, 765939582, 766090398, 767151702, 768694051,\n",
    "       768877329, 769996737, 770150821])"
   ]
  },
  {
   "cell_type": "code",
   "execution_count": 10,
   "id": "41834140-fe1b-4297-8bc6-cf10174eaaa0",
   "metadata": {},
   "outputs": [],
   "source": [
    "V = video(Datafile, Good[0])"
   ]
  },
  {
   "cell_type": "code",
   "execution_count": 11,
   "id": "64c99349-dffb-40e3-be98-e278bd3903bd",
   "metadata": {},
   "outputs": [
    {
     "data": {
      "application/vnd.jupyter.widget-view+json": {
       "model_id": "7558daea389e4550b7b8a5fafe02812e",
       "version_major": 2,
       "version_minor": 0
      },
      "text/plain": [
       "interactive(children=(IntSlider(value=0, description='frame', layout=Layout(width='1000px'), max=212), Output(…"
      ]
     },
     "metadata": {},
     "output_type": "display_data"
    },
    {
     "data": {
      "text/plain": [
       "<function show_hands.<locals>.show_frame at 0x2b0dff130>"
      ]
     },
     "execution_count": 11,
     "metadata": {},
     "output_type": "execute_result"
    }
   ],
   "source": [
    "f = show_hands(V)\n",
    "interact(f, frame=widgets.IntSlider(min=0, max=len(V.frames)-1, step=1, value=0, layout=widgets.Layout(width='1000px')))"
   ]
  },
  {
   "cell_type": "code",
   "execution_count": 39,
   "id": "6b4c4c21-3b6e-4261-8064-277032e4f8bb",
   "metadata": {},
   "outputs": [],
   "source": [
    "# load Data\n",
    "with open('LabeledData/LabeledData' + str(Datafile.id) + '.json', 'r') as f:\n",
    "    train = json.load(f)\n",
    "\n",
    "X, y = [], []\n",
    "# loop over file ids\n",
    "for file in train:\n",
    "    # create datafile\n",
    "    Df = datafile(Meta, file)\n",
    "    videos = train[file]\n",
    "    for vid in videos:\n",
    "        \n",
    "        # load date\n",
    "        V = video(Df, int(vid))\n",
    "        N, p = normal_hand_data(V)\n",
    "        pN = videos[vid]\n",
    "        \n",
    "        # loop\n",
    "        for i in range(len(N)):\n",
    "            if pN[i] != '?':\n",
    "                X += [ N[i] ]\n",
    "                y += [ Encode[ pN[i] ] ]"
   ]
  },
  {
   "cell_type": "code",
   "execution_count": 30,
   "id": "b57084ae-5c52-4e2e-8fac-86b48fb192c2",
   "metadata": {},
   "outputs": [],
   "source": [
    "X_train, X_test, y_train, y_test = train_test_split(X, y, test_size=0.3) "
   ]
  },
  {
   "cell_type": "code",
   "execution_count": 31,
   "id": "370bc04b-f816-4d76-b074-74c3e8ea421e",
   "metadata": {},
   "outputs": [],
   "source": [
    "# Model\n",
    "k = 40\n",
    "M = tf.keras.Sequential([\n",
    "    tf.keras.layers.Flatten(input_shape=(20, 3)),\n",
    "    tf.keras.layers.Dense(6*k, activation='relu'),\n",
    "    tf.keras.layers.Dense(k)])\n",
    "\n",
    "# Compile Model\n",
    "M.compile(optimizer='adam', loss=tf.keras.losses.SparseCategoricalCrossentropy(from_logits=True), metrics=['accuracy'])"
   ]
  },
  {
   "cell_type": "code",
   "execution_count": 34,
   "id": "f65f4816-f96a-4643-be63-0fb895bf03e3",
   "metadata": {},
   "outputs": [
    {
     "data": {
      "text/plain": [
       "<keras.callbacks.History object at 0x154715570>"
      ]
     },
     "execution_count": 34,
     "metadata": {},
     "output_type": "execute_result"
    }
   ],
   "source": [
    "# fit model\n",
    "# M.fit( X, y, epochs = 400, verbose=0 )\n",
    "M.fit( X_train, y_train, epochs = 400, verbose=0 )"
   ]
  },
  {
   "cell_type": "code",
   "execution_count": 40,
   "id": "96ee1667-c2af-4f70-83cd-b6769c7a1e49",
   "metadata": {},
   "outputs": [
    {
     "name": "stdout",
     "output_type": "stream",
     "text": [
      "177/177 - 0s - loss: 1.4730 - accuracy: 0.8012 - 132ms/epoch - 747us/step\n",
      "accuracy: 0.8011685609817505\n"
     ]
    }
   ],
   "source": [
    "Loss, Acctrain = M.evaluate(X, y, verbose=2)\n",
    "print('accuracy:', Acctrain)"
   ]
  },
  {
   "cell_type": "code",
   "execution_count": 35,
   "id": "ed73f942-0b7d-4ada-9940-d2e5ac910065",
   "metadata": {},
   "outputs": [
    {
     "name": "stdout",
     "output_type": "stream",
     "text": [
      "138/138 - 0s - loss: 0.2051 - accuracy: 0.9451 - 57ms/epoch - 413us/step\n",
      "59/59 - 0s - loss: 0.7341 - accuracy: 0.8570 - 32ms/epoch - 547us/step\n",
      "\n",
      "Train accuracy: 0.9450649619102478\n",
      "\n",
      "Test accuracy: 0.8569909334182739\n"
     ]
    }
   ],
   "source": [
    "Loss, Acctrain = M.evaluate(X_train, y_train, verbose=2)\n",
    "Loss, Acctest = M.evaluate(X_test, y_test, verbose=2)\n",
    "print('\\nTrain accuracy:', Acctrain)\n",
    "print('\\nTest accuracy:', Acctest)"
   ]
  },
  {
   "cell_type": "code",
   "execution_count": null,
   "id": "75056649-d251-4201-96fc-7fb7e583acd8",
   "metadata": {},
   "outputs": [],
   "source": [
    "Label(V,M)"
   ]
  },
  {
   "cell_type": "code",
   "execution_count": 19,
   "id": "3106d82e-001d-458f-85dc-19bbdb96fb14",
   "metadata": {},
   "outputs": [],
   "source": [
    "#with open(\"LabeledData/LabledData40.json\", 'r') as f:\n",
    "    #pickles = json.load(f)"
   ]
  },
  {
   "cell_type": "code",
   "execution_count": 20,
   "id": "f5a1d7c8-bf05-408a-b2d5-4d3cc816fd4d",
   "metadata": {},
   "outputs": [],
   "source": [
    "# pickle function\n",
    "def pickle(Dict, V):\n",
    "    seq_id = str(V.id)\n",
    "    Frames = V.frames\n",
    "    Dict[seq_id] = [ label(V,i) for i in Frames ]"
   ]
  },
  {
   "cell_type": "code",
   "execution_count": 21,
   "id": "5acffc1a-9994-4f8d-8643-143c2fd81bb6",
   "metadata": {},
   "outputs": [],
   "source": [
    "# pickling good movies\n",
    "pepper = {}\n",
    "for vid in Good:\n",
    "    V = video(Datafile, vid)\n",
    "    Label(V,M)\n",
    "    pickle( pepper, V )"
   ]
  },
  {
   "cell_type": "code",
   "execution_count": 25,
   "id": "62c51c9d-f1ef-4e8d-a4fa-78b43eb5535a",
   "metadata": {},
   "outputs": [],
   "source": [
    "D = { str(Datafile.id) : pepper }"
   ]
  },
  {
   "cell_type": "code",
   "execution_count": 27,
   "id": "8714ea6b-177a-4a26-af14-4902924dae10",
   "metadata": {},
   "outputs": [
    {
     "data": {
      "text/plain": [
       "'86446671'"
      ]
     },
     "execution_count": 27,
     "metadata": {},
     "output_type": "execute_result"
    }
   ],
   "source": [
    "Datafile.id"
   ]
  },
  {
   "cell_type": "code",
   "execution_count": 28,
   "id": "d15c9f51-192a-4ece-85c7-ff43b4245aa6",
   "metadata": {},
   "outputs": [],
   "source": [
    "with open('LabeledData_' + str(Datafile.id) + '.json', 'w') as f:\n",
    "    json.dump(D, f, indent=2)"
   ]
  },
  {
   "cell_type": "code",
   "execution_count": null,
   "id": "7311f262-1ce0-4a62-af6b-227c3d628e4b",
   "metadata": {},
   "outputs": [],
   "source": []
  }
 ],
 "metadata": {
  "kernelspec": {
   "display_name": "Python 3 (ipykernel)",
   "language": "python",
   "name": "python3"
  },
  "language_info": {
   "codemirror_mode": {
    "name": "ipython",
    "version": 3
   },
   "file_extension": ".py",
   "mimetype": "text/x-python",
   "name": "python",
   "nbconvert_exporter": "python",
   "pygments_lexer": "ipython3",
   "version": "3.10.9"
  }
 },
 "nbformat": 4,
 "nbformat_minor": 5
}

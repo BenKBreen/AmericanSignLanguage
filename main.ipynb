{
 "cells": [
  {
   "cell_type": "code",
   "execution_count": 1,
   "id": "0576cb8d-096e-4877-a266-6c457ebf2db9",
   "metadata": {},
   "outputs": [
    {
     "name": "stdout",
     "output_type": "stream",
     "text": [
      "importing Jupyter notebook from objects.ipynb\n",
      "importing Jupyter notebook from video.ipynb\n",
      "importing Jupyter notebook from landmarks.ipynb\n",
      "importing Jupyter notebook from plotting.ipynb\n",
      "importing Jupyter notebook from spellcheck.ipynb\n",
      "importing Jupyter notebook from converter.ipynb\n",
      "Pretty printing has been turned OFF\n"
     ]
    },
    {
     "name": "stderr",
     "output_type": "stream",
     "text": [
      "INFO: Created TensorFlow Lite XNNPACK delegate for CPU.\n"
     ]
    }
   ],
   "source": [
    "### imports\n",
    "import json\n",
    "import import_ipynb\n",
    "import ipywidgets as widgets\n",
    "import tensorflow as tf\n",
    "from sklearn.model_selection import train_test_split\n",
    "from ipywidgets import interact, interactive, fixed, interact_manual\n",
    "from objects import *\n",
    "from video import *\n",
    "from spellcheck import *\n",
    "from converter import *\n",
    "\n",
    "### pretty print = off\n",
    "%pprint"
   ]
  },
  {
   "cell_type": "markdown",
   "id": "3a7eea02-d086-4c74-a449-8c6521d03aa6",
   "metadata": {},
   "source": [
    "## Metadata"
   ]
  },
  {
   "cell_type": "code",
   "execution_count": 2,
   "id": "45a9ec94-f307-4e23-919d-8f271befc069",
   "metadata": {},
   "outputs": [],
   "source": [
    "Meta = metadata('train')\n",
    "MetaS = metadata('supplemental')"
   ]
  },
  {
   "cell_type": "markdown",
   "id": "4a1a16cb-6469-4550-bbf2-e1f4d5182478",
   "metadata": {},
   "source": [
    "## Selecting datafiles"
   ]
  },
  {
   "cell_type": "code",
   "execution_count": 3,
   "id": "cfbb29c9-6dca-4d7c-a554-c9fb12353b39",
   "metadata": {},
   "outputs": [],
   "source": [
    "file = str(Meta.files[2])\n",
    "Datafile = datafile(Meta, file)"
   ]
  },
  {
   "cell_type": "markdown",
   "id": "d56aed9c-6200-453e-9b78-5715e2f985c8",
   "metadata": {},
   "source": [
    "## Selecting videos"
   ]
  },
  {
   "cell_type": "code",
   "execution_count": 4,
   "id": "72d4edec-cb39-4801-b1b6-0a2ed24411ee",
   "metadata": {},
   "outputs": [
    {
     "name": "stdout",
     "output_type": "stream",
     "text": [
      " Sequence: 198023098\n",
      " Phrase: andria duncan\n",
      " Signer: 81\n",
      " Frames: 42\n",
      " Dominant Hand: right\n",
      " Percentage: 35.71\n"
     ]
    }
   ],
   "source": [
    "vid = Datafile.videos[1]\n",
    "V = video(Datafile, vid)\n",
    "print(V)"
   ]
  },
  {
   "cell_type": "code",
   "execution_count": 5,
   "id": "64c99349-dffb-40e3-be98-e278bd3903bd",
   "metadata": {},
   "outputs": [
    {
     "data": {
      "application/vnd.jupyter.widget-view+json": {
       "model_id": "94acf03654a7426380fdb2bd9932701a",
       "version_major": 2,
       "version_minor": 0
      },
      "text/plain": [
       "interactive(children=(IntSlider(value=0, description='frame', layout=Layout(width='1000px'), max=14), Output()…"
      ]
     },
     "metadata": {},
     "output_type": "display_data"
    },
    {
     "data": {
      "text/plain": [
       "<function show_hands.<locals>.show_frame at 0x1098ceef0>"
      ]
     },
     "execution_count": 5,
     "metadata": {},
     "output_type": "execute_result"
    }
   ],
   "source": [
    "f = show_hands(V)\n",
    "interact(f, frame=widgets.IntSlider(min=0, max=len(V.handframes)-1, step=1, value=0, layout=widgets.Layout(width='1000px')))"
   ]
  },
  {
   "cell_type": "markdown",
   "id": "4facd273-2b92-417f-942b-4a7463aa48c1",
   "metadata": {},
   "source": [
    "# Label and Pickle "
   ]
  },
  {
   "cell_type": "code",
   "execution_count": 6,
   "id": "cee59c0a-ff0d-4165-b33c-6b7a19e1a5ab",
   "metadata": {},
   "outputs": [],
   "source": [
    "#Label(V,M)\n",
    "\n",
    "# change label\n",
    "def changelabel(self, i, letter):\n",
    "    self.data_labels[i] = letter\n",
    "    \n",
    "# pickle function\n",
    "def pickle(D,V):\n",
    "    seq_id = str(V.id)\n",
    "    Frames = V.frames\n",
    "    D[seq_id] = V.data_labels\n",
    "    \n",
    "#for i in range(81,82):\n",
    "    #changelabel(V,i,'?')"
   ]
  },
  {
   "cell_type": "code",
   "execution_count": 7,
   "id": "3ec78a9f-b71c-418b-a2d4-7ebd919c4e76",
   "metadata": {},
   "outputs": [],
   "source": [
    "#for i in range(81,82):\n",
    "    #changelabel(V,i,'?')\n",
    "# pickle(D,V)"
   ]
  },
  {
   "cell_type": "markdown",
   "id": "b03f2f19-1161-4ed4-bc38-03fc3bd15cc8",
   "metadata": {},
   "source": [
    "# Model"
   ]
  },
  {
   "cell_type": "markdown",
   "id": "323762b6-df28-4b10-be69-4f1f51b18df5",
   "metadata": {},
   "source": [
    "### Prepare data"
   ]
  },
  {
   "cell_type": "code",
   "execution_count": 8,
   "id": "6b4c4c21-3b6e-4261-8064-277032e4f8bb",
   "metadata": {},
   "outputs": [],
   "source": [
    "# initialize\n",
    "X, y = [], []\n",
    "\n",
    "# loop over file ids\n",
    "def generate_training_data(file):\n",
    "    \n",
    "    # load dictionary\n",
    "    dstring = 'Labels/Labels' + str(file) + '.json'\n",
    "    with open( dstring, 'r') as f:\n",
    "        train = json.load(f)\n",
    "    \n",
    "    Met = MetaS if file in MetaS.files else Meta\n",
    "    \n",
    "    for file in train:\n",
    "        # create datafile\n",
    "        Df = datafile(Met, file)\n",
    "        videos = train[file]\n",
    "        for vid in videos:\n",
    "        \n",
    "            # load date\n",
    "            V = video(Df, int(vid))\n",
    "            N, p = normal_hand_data(V)\n",
    "            pN = videos[vid]\n",
    "        \n",
    "            # loop\n",
    "            for i in range(len(N)):\n",
    "                if pN[i] != '?':\n",
    "                    X.append( N[i] )\n",
    "                    y.append( Encode( pN[i] ) )\n"
   ]
  },
  {
   "cell_type": "code",
   "execution_count": 25,
   "id": "070ddd4b-2e92-4458-8b31-247b8392ffb0",
   "metadata": {},
   "outputs": [
    {
     "data": {
      "text/plain": [
       "True"
      ]
     },
     "execution_count": 25,
     "metadata": {},
     "output_type": "execute_result"
    }
   ],
   "source": []
  },
  {
   "cell_type": "code",
   "execution_count": 9,
   "id": "132bb2b5-80e1-46e9-9a47-6f02d36f9fbf",
   "metadata": {},
   "outputs": [],
   "source": [
    "# training_files = [105143404, 128822441, 33432165]\n",
    "# training_files = [ 86446671, 33432165 ]\n",
    "# for file in training_files:\n",
    "    # generate_training_data(file)"
   ]
  },
  {
   "cell_type": "code",
   "execution_count": 10,
   "id": "b57084ae-5c52-4e2e-8fac-86b48fb192c2",
   "metadata": {},
   "outputs": [],
   "source": [
    "# X_train, X_test, y_train, y_test = train_test_split(X, y, test_size=0.3) "
   ]
  },
  {
   "cell_type": "markdown",
   "id": "5b8ba0a5-82b3-43ec-8fb2-6722a39be580",
   "metadata": {},
   "source": [
    "### Model "
   ]
  },
  {
   "cell_type": "code",
   "execution_count": 11,
   "id": "370bc04b-f816-4d76-b074-74c3e8ea421e",
   "metadata": {},
   "outputs": [],
   "source": [
    "# Model\n",
    "k = 59\n",
    "M = tf.keras.Sequential([\n",
    "    tf.keras.layers.Flatten(input_shape=(20, 3)),\n",
    "    tf.keras.layers.Dense(6*k, activation='relu'),\n",
    "    tf.keras.layers.Dense(k)])\n",
    "\n",
    "# Compile Model\n",
    "M.compile(optimizer='Adam', loss=tf.keras.losses.SparseCategoricalCrossentropy(from_logits=True), metrics=['accuracy'])"
   ]
  },
  {
   "cell_type": "code",
   "execution_count": 12,
   "id": "f65f4816-f96a-4643-be63-0fb895bf03e3",
   "metadata": {},
   "outputs": [],
   "source": [
    "# fit model\n",
    "# M.fit( X, y, epochs = 400, verbose=0 )\n",
    "# M.fit( X_train, y_train, epochs = 450, verbose=0 )"
   ]
  },
  {
   "cell_type": "code",
   "execution_count": 14,
   "id": "96ee1667-c2af-4f70-83cd-b6769c7a1e49",
   "metadata": {},
   "outputs": [],
   "source": [
    "# Loss, Acctrain = M.evaluate(X, y, verbose=2)\n",
    "# print('accuracy:', Acctrain)"
   ]
  },
  {
   "cell_type": "code",
   "execution_count": null,
   "id": "ed73f942-0b7d-4ada-9940-d2e5ac910065",
   "metadata": {},
   "outputs": [],
   "source": [
    "#Loss, Acctrain = M.evaluate(X_train, y_train, verbose=2)\n",
    "#Loss, Acctest = M.evaluate(X_test, y_test, verbose=2)\n",
    "#print('\\nTrain accuracy:', Acctrain)\n",
    "#print('\\nTest accuracy:', Acctest)"
   ]
  },
  {
   "cell_type": "markdown",
   "id": "03903124-f656-4974-bc98-723cc4cbd5a5",
   "metadata": {},
   "source": [
    " ### save + load past models "
   ]
  },
  {
   "cell_type": "code",
   "execution_count": null,
   "id": "d4c429df-a682-477f-a3b3-10be85822346",
   "metadata": {},
   "outputs": [],
   "source": [
    "# save model \n",
    "# M.save(\"alphabetmodel.h5\")\n",
    "\n",
    "# load model \n",
    "# M = tf.keras.models.load_model('alphabetmodel.h5')"
   ]
  },
  {
   "cell_type": "markdown",
   "id": "b7b7d0ba-d2a6-4861-875d-76ddc370d870",
   "metadata": {},
   "source": [
    "# External videos"
   ]
  },
  {
   "cell_type": "code",
   "execution_count": 28,
   "id": "69da09d8-35d8-43d7-8bcb-406c6ad582c7",
   "metadata": {},
   "outputs": [
    {
     "name": "stdout",
     "output_type": "stream",
     "text": [
      " path: IMG_0948.MOV\n",
      " Number of frames: 469\n",
      " Percentage of frames with landmarks: 0.6481876332622601\n"
     ]
    }
   ],
   "source": [
    "path = 'IMG_0948.MOV'\n",
    "V = video_file(path)\n",
    "print(V)"
   ]
  },
  {
   "cell_type": "code",
   "execution_count": 29,
   "id": "79274a17-b805-44da-a527-b0c0719a11ed",
   "metadata": {},
   "outputs": [
    {
     "data": {
      "application/vnd.jupyter.widget-view+json": {
       "model_id": "7d0bca6ef62b4d2680bc73c71cf827ab",
       "version_major": 2,
       "version_minor": 0
      },
      "text/plain": [
       "interactive(children=(IntSlider(value=0, description='i', layout=Layout(width='1000px'), max=468), Output()), …"
      ]
     },
     "metadata": {},
     "output_type": "display_data"
    },
    {
     "data": {
      "text/plain": [
       "<function show_annotated_video.<locals>.show_frame at 0x2d42caef0>"
      ]
     },
     "execution_count": 29,
     "metadata": {},
     "output_type": "execute_result"
    }
   ],
   "source": [
    "f = show_annotated_video(V)\n",
    "interact(f, i=widgets.IntSlider(min=0, max=len(V.frames)-1, step=1, value=0, layout=widgets.Layout(width='1000px')))"
   ]
  },
  {
   "cell_type": "markdown",
   "id": "b01d9ae2-fe97-485d-a277-5880daa725c7",
   "metadata": {},
   "source": [
    "### Extra "
   ]
  },
  {
   "cell_type": "code",
   "execution_count": null,
   "id": "01750830-79c7-4794-9c52-c1d77c34dc4d",
   "metadata": {},
   "outputs": [],
   "source": [
    "#Good = []\n",
    "#for i, vid in enumerate(Datafile.videos):\n",
    "    #V = video(Datafile, vid)\n",
    "    #p = percentage(V)\n",
    "    #if p == 100.00: \n",
    "        #Good += [vid]\n",
    "    #print(i,p,vid,len(Good))\n",
    "    \n",
    "# Good = np.array(Good)\n",
    "\n",
    "#Good =[1784587545, 1786414699, 1786455245, 1786973032, 1787094692,\n",
    "       #1791358393, 1792308520, 1792909008, 1794263510, 1795294511,\n",
    "       #1797338021, 1797425392, 1799533211, 1801891222, 1802098574,\n",
    "       #1803766841, 1805308488, 1805565959, 1806516226, 1807475031,\n",
    "       #1807505088, 1808538895, 1810669537, 1811016240, 1813227209,\n",
    "       #1814409379, 1814575380, 1815284952, 1815485319]\n",
    "    \n",
    "# add to training data\n",
    "#N, p = normal_hand_data(V)\n",
    "#pN = V.data_labels\n",
    "\n",
    "#X, y = [], []\n",
    "\n",
    "# loop\n",
    "#for i in range(len(N)):\n",
    "    #if pN[i] != '?':\n",
    "        #X += [ N[i] ]\n",
    "        #y += [ Encode( pN[i] ) ]"
   ]
  }
 ],
 "metadata": {
  "kernelspec": {
   "display_name": "Python 3 (ipykernel)",
   "language": "python",
   "name": "python3"
  },
  "language_info": {
   "codemirror_mode": {
    "name": "ipython",
    "version": 3
   },
   "file_extension": ".py",
   "mimetype": "text/x-python",
   "name": "python",
   "nbconvert_exporter": "python",
   "pygments_lexer": "ipython3",
   "version": "3.10.9"
  }
 },
 "nbformat": 4,
 "nbformat_minor": 5
}

{
 "cells": [
  {
   "cell_type": "code",
   "execution_count": 1,
   "id": "0576cb8d-096e-4877-a266-6c457ebf2db9",
   "metadata": {},
   "outputs": [
    {
     "name": "stderr",
     "output_type": "stream",
     "text": [
      "INFO: Created TensorFlow Lite XNNPACK delegate for CPU.\n"
     ]
    }
   ],
   "source": [
    "# import package\n",
    "import asl"
   ]
  },
  {
   "cell_type": "markdown",
   "id": "b7b7d0ba-d2a6-4861-875d-76ddc370d870",
   "metadata": {},
   "source": [
    "# Example videos"
   ]
  },
  {
   "cell_type": "code",
   "execution_count": 2,
   "id": "69da09d8-35d8-43d7-8bcb-406c6ad582c7",
   "metadata": {},
   "outputs": [
    {
     "name": "stderr",
     "output_type": "stream",
     "text": [
      "2023-09-20 15:12:03.067132: W tensorflow/tsl/platform/profile_utils/cpu_utils.cc:128] Failed to get CPU frequency: 0 Hz\n"
     ]
    },
    {
     "name": "stdout",
     "output_type": "stream",
     "text": [
      " path: Examples/IMG_0976.MOV\n",
      " Resolution: (1080, 1920)\n",
      " Number of frames: 446\n",
      " Percentage of frames with landmarks: 0.968609865470852\n"
     ]
    }
   ],
   "source": [
    "# path to video\n",
    "path = 'Examples/IMG_0976.MOV'\n",
    "\n",
    "# load video from file\n",
    "V = asl.video_file(path)\n",
    "print(V)"
   ]
  },
  {
   "cell_type": "markdown",
   "id": "72af8410-4864-45b0-bc7a-5f6221fe1938",
   "metadata": {},
   "source": [
    "# Video"
   ]
  },
  {
   "cell_type": "code",
   "execution_count": 3,
   "id": "495181af-7e06-455c-a7eb-f1812a95c8c5",
   "metadata": {},
   "outputs": [
    {
     "data": {
      "application/vnd.jupyter.widget-view+json": {
       "model_id": "8f8e6bb55fe943a3bc6cd46335d637cd",
       "version_major": 2,
       "version_minor": 0
      },
      "text/plain": [
       "interactive(children=(IntSlider(value=0, description='i', layout=Layout(width='1000px'), max=445), Output()), …"
      ]
     },
     "metadata": {},
     "output_type": "display_data"
    },
    {
     "data": {
      "text/plain": [
       "<function asl.converter.show_annotated_video.<locals>.show_frame(i)>"
      ]
     },
     "execution_count": 3,
     "metadata": {},
     "output_type": "execute_result"
    }
   ],
   "source": [
    "asl.show_video(V)"
   ]
  },
  {
   "cell_type": "code",
   "execution_count": null,
   "id": "8a85eb8a-38e2-4784-b643-68ae98eea1a7",
   "metadata": {},
   "outputs": [],
   "source": []
  }
 ],
 "metadata": {
  "kernelspec": {
   "display_name": "Python 3 (ipykernel)",
   "language": "python",
   "name": "python3"
  },
  "language_info": {
   "codemirror_mode": {
    "name": "ipython",
    "version": 3
   },
   "file_extension": ".py",
   "mimetype": "text/x-python",
   "name": "python",
   "nbconvert_exporter": "python",
   "pygments_lexer": "ipython3",
   "version": "3.10.9"
  }
 },
 "nbformat": 4,
 "nbformat_minor": 5
}
